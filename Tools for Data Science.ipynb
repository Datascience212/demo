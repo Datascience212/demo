{
 "cells": [
  {
   "cell_type": "markdown",
   "id": "a6bda546-0ed4-429e-8a05-51c0bc1ba728",
   "metadata": {},
   "source": [
    "# My Jupyter Notebook on IBM Watson Studio"
   ]
  },
  {
   "cell_type": "markdown",
   "id": "60226ef7-36e9-4876-9819-55acd6fb7b95",
   "metadata": {},
   "source": [
    "**Logan Chatham**"
   ]
  },
  {
   "cell_type": "markdown",
   "id": "212df7fc-cc16-4b9e-ad24-1a0ad63ee592",
   "metadata": {},
   "source": [
    "_I am learning data science because I want to learn to code and to apply my analytical background. I have a degree in science and always loved the analytics involved in labs._"
   ]
  },
  {
   "cell_type": "markdown",
   "id": "ba32915e-24c6-4984-a802-33d2a03c9ddd",
   "metadata": {},
   "source": [
    "### The code in cell 5 is a basic order of operations including addition, subtraction, and multiplication."
   ]
  },
  {
   "cell_type": "code",
   "execution_count": 5,
   "id": "4a144900-d22f-4980-879f-58deb2b6c733",
   "metadata": {},
   "outputs": [
    {
     "data": {
      "text/plain": [
       "-14"
      ]
     },
     "execution_count": 5,
     "metadata": {},
     "output_type": "execute_result"
    }
   ],
   "source": [
    "2+6-11*2"
   ]
  },
  {
   "cell_type": "markdown",
   "id": "249d1ae9-2f69-42b5-a593-113ba025f4ef",
   "metadata": {},
   "source": [
    "| Jupyter Tool | Code|\n",
    "|--------------|------------|\n",
    "| Horizontal Rule | *** This code is used to help create a space between rows |\n",
    "| Bulleted List | - (can have space after, or both before and after for circular bullet)|\n",
    "| Numbered List | Type in the number then a period. (1.)|\n",
    "| Table | Place a vertical line, space, code, space, then another\n",
    "| Strikethorugh | ~~ Strike~~ Use this to mark through edited protions for your notebook |"
   ]
  },
  {
   "cell_type": "code",
   "execution_count": null,
   "id": "4d15945c-a4a4-4b9f-a651-0647ea20327b",
   "metadata": {},
   "outputs": [],
   "source": []
  }
 ],
 "metadata": {
  "kernelspec": {
   "display_name": "Python",
   "language": "python",
   "name": "conda-env-python-py"
  },
  "language_info": {
   "codemirror_mode": {
    "name": "ipython",
    "version": 3
   },
   "file_extension": ".py",
   "mimetype": "text/x-python",
   "name": "python",
   "nbconvert_exporter": "python",
   "pygments_lexer": "ipython3",
   "version": "3.7.12"
  }
 },
 "nbformat": 4,
 "nbformat_minor": 5
}
